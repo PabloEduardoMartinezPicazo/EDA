{
 "metadata": {
  "language_info": {
   "codemirror_mode": {
    "name": "ipython",
    "version": 3
   },
   "file_extension": ".py",
   "mimetype": "text/x-python",
   "name": "python",
   "nbconvert_exporter": "python",
   "pygments_lexer": "ipython3",
   "version": 3
  },
  "orig_nbformat": 2
 },
 "nbformat": 4,
 "nbformat_minor": 2,
 "cells": [
  {
   "source": [
    "Comisión: https://ec.europa.eu/trade/policy/countries-and-regions/negotiations-and-agreements/\n",
    "\n",
    "Datacomex:  https://datacomex.comercio.es/\n",
    "\n",
    "Access2Markets: https://trade.ec.europa.eu/access-to-markets/es/content/bienvenidos-los-usuarios-de-la-base-de-datos-de-acceso-los-mercados-access2markets-market-access\n",
    " \n",
    "ICEX: https://www.icex.es/icex/es/\n",
    "\n",
    "Eurostacom: https://euroestacom-est.icex.es/estacom/desglose.html\n",
    "\n",
    "\n"
   ],
   "cell_type": "markdown",
   "metadata": {}
  }
 ]
}