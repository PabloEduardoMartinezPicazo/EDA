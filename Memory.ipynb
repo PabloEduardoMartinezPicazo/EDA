{
 "metadata": {
  "language_info": {
   "codemirror_mode": {
    "name": "ipython",
    "version": 3
   },
   "file_extension": ".py",
   "mimetype": "text/x-python",
   "name": "python",
   "nbconvert_exporter": "python",
   "pygments_lexer": "ipython3",
   "version": 3
  },
  "orig_nbformat": 2
 },
 "nbformat": 4,
 "nbformat_minor": 2,
 "cells": [
  {
   "source": [
    "# En este estudio se pretendía demostrar como los acuerdos permiten mejorar el comercio internacional."
   ],
   "cell_type": "markdown",
   "metadata": {}
  },
  {
   "source": [
    "### Los datos fueron extraídos de diferentes bases de datos: Comisión Europea, Datacomex, Eurostacom, ICEX y Access2Markets."
   ],
   "cell_type": "markdown",
   "metadata": {}
  },
  {
   "source": [
    "### 5 fueron los países en estudio: Corea del Sur, Canadá, Japón, Vietnam y Singapur.\n",
    "### Se usaron los datos de exportaciones e importaciones desde el año 2006 (15 años)\n",
    "### 30 fueron los tarics usados todos del sector alimentacion y primario\n",
    "### Se obtuvieron los tarics necesarios a traves de diferentes estudios de mercado de ICEX\n",
    "### Los acuerdos de libre comercio fueron leidos en la página de la comision europea.\n",
    "### 2 paises fueron rechazados (Singapur y Vietnam) para el estudio en profundidad debido a que sus datos no eran suficientemente actualizados y los acuerdos fueron firmados hace muy poco tiempo (menos de dos años)\n",
    "### Los otros tres paises fueron usados para hacer una comparacion entre los diferentes acuerdos y como todos ellos mejoran el comercio internacional. (Corea muy abierto, Japon muy cerrado, Canada mixto)\n"
   ],
   "cell_type": "markdown",
   "metadata": {}
  },
  {
   "source": [
    "Los DataFrame que se obtuvieron volcaron una forma bastante desordenada y que no reflejaba lo que quería analizar. Para ello en primer lugar me descargué los diferentes dataframes  y procedi mediante diferentes fórmulas a limpiar los datos, transformar las columnas numéricas en números y hacer un melt para organizarla de tal manera que los años y los tarics estuviesen en columnas y no uno en filas y otro en columnas."
   ],
   "cell_type": "markdown",
   "metadata": {}
  },
  {
   "source": [
    "En segundo lugar, se unieron los diferentes dataframes (10) en uno solo de tal manera que todos los paises fueran de manera descendente y por años. por lo tanto, primero se mostraban los valores de 2006, luego 2007 y así sucesivamente. Los datos fueron agrupados por años y por paises "
   ],
   "cell_type": "markdown",
   "metadata": {}
  },
  {
   "source": [
    "Decidí sacar 3 dataframes mas peques de los diferentes paises necesarios, el mas relevante el de corea que incluye aranceles y variacion de las expor impor"
   ],
   "cell_type": "markdown",
   "metadata": {}
  },
  {
   "source": [
    "Graficas con totales, con la dispersion de aranceles de corea, y graficas pequeñas de los 3 paises analizados "
   ],
   "cell_type": "markdown",
   "metadata": {}
  },
  {
   "source": [
    "Volcar la informacion en la que se presentan los 3 acuerdos analizados, los datos globales y los dataframes "
   ],
   "cell_type": "markdown",
   "metadata": {}
  }
 ]
}